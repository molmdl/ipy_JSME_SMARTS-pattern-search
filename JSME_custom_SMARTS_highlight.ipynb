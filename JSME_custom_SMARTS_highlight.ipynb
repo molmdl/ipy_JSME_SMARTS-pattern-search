{
 "cells": [
  {
   "cell_type": "markdown",
   "metadata": {},
   "source": [
    "# Highlighting custom SMARTS pattern in user-drawn molecule\n",
    "---"
   ]
  },
  {
   "cell_type": "markdown",
   "metadata": {},
   "source": [
    "General usage\n",
    "1. Load the JSME editor and draw the molecule of interest\n",
    "2. Upload the csv file containing the SMARTS pattern of your custom chemical filters.\n",
    "3. Highlight the SMARTS pattern in the molecule drawn by the user.\n",
    "\n",
    "Majority of the code is taken from the following resources:\n",
    "1. <a href=\"https://github.com/lithium0003/JSME_ipywidget\">JSME_ipywidget</a>\n",
    "2. \"T003_compound_unwanted_substructures\" of <a href=\"https://github.com/volkamerlab/teachopencadd\">TeachOpenCADD</a> \n",
    "\n",
    "Reference:\n",
    "1. (a)<a bref=\"https://jsme-editor.github.io/\">JSME editor</a> (b) <a href=\"https://github.com/lithium0003/JSME_ipywidget\">JSME_ipywidget for jupyter notebook</a>\n",
    "2. <a href=\"https://www.rdkit.org\">RDKit official website</a>\n",
    "3. teachopencadd talktorials (a) <a href=\"https://doi.org/10.1093/nar/gkac267\">Publication</a>, (b) <a href=\"https://projects.volkamerlab.org/teachopencadd/\">website</a>, (c) <a href=\"https://github.com/volkamerlab/teachopencadd\">Github </a>\n",
    "4. <a href=\"https://doi.org/10.1002/cmdc.200700139\">The Brenk filter.</a> Actually its already implemented in RDKit, using it to test the use of custom filters.\n",
    "\n",
    "\n",
    "---"
   ]
  },
  {
   "cell_type": "markdown",
   "metadata": {},
   "source": [
    "## Import useful tools"
   ]
  },
  {
   "cell_type": "markdown",
   "metadata": {},
   "source": [
    "Load the tools for analyzing your molecule."
   ]
  },
  {
   "cell_type": "code",
   "execution_count": null,
   "metadata": {},
   "outputs": [],
   "source": [
    "import pandas as pd\n",
    "from rdkit import Chem\n",
    "from rdkit.Chem import PandasTools\n",
    "from rdkit.Chem.FilterCatalog import FilterCatalog, FilterCatalogParams\n",
    "from rdkit.Chem import Draw\n",
    "from rdkit.Chem.Draw import IPythonConsole\n",
    "\n",
    "import io\n",
    "import ipywidgets\n",
    "from ipywidgets import FileUpload\n",
    "from IPython.display import display"
   ]
  },
  {
   "cell_type": "markdown",
   "metadata": {},
   "source": [
    "Load the JSME widget."
   ]
  },
  {
   "cell_type": "code",
   "execution_count": 2,
   "metadata": {},
   "outputs": [],
   "source": [
    "from traitlets import Unicode, Bool, validate, TraitError\n",
    "from ipywidgets import DOMWidget, register\n",
    "\n",
    "@register\n",
    "class SmilesEditor(DOMWidget):\n",
    "    _view_name = Unicode('SmilesView').tag(sync=True)\n",
    "    _view_module = Unicode('smiles_widget').tag(sync=True)\n",
    "    _view_module_version = Unicode('0.1.0').tag(sync=True)\n",
    "\n",
    "    # Attributes\n",
    "    smiles = Unicode('', help=\"SMILES value\").tag(sync=True)\n",
    "    mol = Unicode('', help=\"mol value\").tag(sync=True)\n",
    "    \n",
    "    def __init__(self, *pargs, **kwargs):\n",
    "        init_struct = {}\n",
    "        if 'smiles' in kwargs:\n",
    "            init_struct['smiles'] = kwargs.pop('smiles')\n",
    "        if 'mol' in kwargs:\n",
    "            init_struct['mol'] = kwargs.pop('mol')\n",
    "        super().__init__(*pargs, **kwargs)\n",
    "        self.smiles = init_struct.get('smiles','')\n",
    "        self.mol = init_struct.get('mol','')"
   ]
  },
  {
   "cell_type": "code",
   "execution_count": 3,
   "metadata": {},
   "outputs": [
    {
     "data": {
      "application/javascript": [
       "require.undef('smiles_widget');\n",
       "require(['jsme/jsme.nocache.js'])\n",
       "define('smiles_widget', [\"@jupyter-widgets/base\"], function(widgets) {\n",
       "    var SmilesView = widgets.DOMWidgetView.extend({\n",
       "        // Render the view.\n",
       "        render: function() {\n",
       "            this.smiles_input = document.createElement('div');\n",
       "            this.smiles_input.id = \"jsme_container\";\n",
       "            this.smiles_display = document.createElement('div');\n",
       "            this.smiles_display.textContent=\"SMILES : \";\n",
       "            this.el.appendChild(this.smiles_display);\n",
       "            this.el.appendChild(this.smiles_input);\n",
       "            \n",
       "            this.changeFunc = function(jsme) {\n",
       "                let smiles = jsme.smiles();\n",
       "                let mol = jsme.molFile();\n",
       "                this.smiles_display.textContent=\"SMILES : \"+smiles;\n",
       "                this.model.set('smiles', smiles);\n",
       "                this.model.set('mol', mol);\n",
       "                this.model.save_changes();                \n",
       "            };\n",
       "            \n",
       "            function myFunc(callback, widget){\n",
       "                var param = {};\n",
       "                if (widget.model.get('smiles')) {\n",
       "                    param = {\"smiles\" : widget.model.get('smiles')};\n",
       "                }\n",
       "                if(widget.model.get('mol')) {\n",
       "                    param = {\"mol\" : widget.model.get('mol')};                    \n",
       "                }\n",
       "                let jsmeApplet = new JSApplet.JSME(\"jsme_container\", \"480px\", \"480px\",  param);\n",
       "                jsmeApplet.setCallBack(\"AfterStructureModified\", callback);\n",
       "                widget.changeFunc(jsmeApplet);\n",
       "            };\n",
       "            setTimeout(myFunc, 500, this.smilesChanged.bind(this), this);\n",
       "        },\n",
       "\n",
       "        smilesChanged: function(jsmeEvent) {\n",
       "            let jsme = jsmeEvent.src;\n",
       "            this.changeFunc(jsme);\n",
       "        },\n",
       "    });\n",
       "    return {\n",
       "        SmilesView: SmilesView\n",
       "    };\n",
       "});\n"
      ],
      "text/plain": [
       "<IPython.core.display.Javascript object>"
      ]
     },
     "metadata": {},
     "output_type": "display_data"
    }
   ],
   "source": [
    "%%javascript\n",
    "require.undef('smiles_widget');\n",
    "require(['jsme/jsme.nocache.js'])\n",
    "define('smiles_widget', [\"@jupyter-widgets/base\"], function(widgets) {\n",
    "    var SmilesView = widgets.DOMWidgetView.extend({\n",
    "        // Render the view.\n",
    "        render: function() {\n",
    "            this.smiles_input = document.createElement('div');\n",
    "            this.smiles_input.id = \"jsme_container\";\n",
    "            this.smiles_display = document.createElement('div');\n",
    "            this.smiles_display.textContent=\"SMILES : \";\n",
    "            this.el.appendChild(this.smiles_display);\n",
    "            this.el.appendChild(this.smiles_input);\n",
    "            \n",
    "            this.changeFunc = function(jsme) {\n",
    "                let smiles = jsme.smiles();\n",
    "                let mol = jsme.molFile();\n",
    "                this.smiles_display.textContent=\"SMILES : \"+smiles;\n",
    "                this.model.set('smiles', smiles);\n",
    "                this.model.set('mol', mol);\n",
    "                this.model.save_changes();                \n",
    "            };\n",
    "            \n",
    "            function myFunc(callback, widget){\n",
    "                var param = {};\n",
    "                if (widget.model.get('smiles')) {\n",
    "                    param = {\"smiles\" : widget.model.get('smiles')};\n",
    "                }\n",
    "                if(widget.model.get('mol')) {\n",
    "                    param = {\"mol\" : widget.model.get('mol')};                    \n",
    "                }\n",
    "                let jsmeApplet = new JSApplet.JSME(\"jsme_container\", \"480px\", \"480px\",  param);\n",
    "                jsmeApplet.setCallBack(\"AfterStructureModified\", callback);\n",
    "                widget.changeFunc(jsmeApplet);\n",
    "            };\n",
    "            setTimeout(myFunc, 500, this.smilesChanged.bind(this), this);\n",
    "        },\n",
    "\n",
    "        smilesChanged: function(jsmeEvent) {\n",
    "            let jsme = jsmeEvent.src;\n",
    "            this.changeFunc(jsme);\n",
    "        },\n",
    "    });\n",
    "    return {\n",
    "        SmilesView: SmilesView\n",
    "    };\n",
    "});"
   ]
  },
  {
   "cell_type": "markdown",
   "metadata": {},
   "source": [
    "# Run the JSME editor"
   ]
  },
  {
   "cell_type": "markdown",
   "metadata": {},
   "source": [
    "Run the next cell to start the editor. Draw the molecule after loading."
   ]
  },
  {
   "cell_type": "code",
   "execution_count": 4,
   "metadata": {
    "scrolled": false
   },
   "outputs": [
    {
     "data": {
      "application/vnd.jupyter.widget-view+json": {
       "model_id": "4dcaf2719c5141a684bb2ca4920c9f08",
       "version_major": 2,
       "version_minor": 0
      },
      "text/plain": [
       "SmilesEditor()"
      ]
     },
     "metadata": {},
     "output_type": "display_data"
    }
   ],
   "source": [
    "editor = SmilesEditor()\n",
    "editor"
   ]
  },
  {
   "cell_type": "markdown",
   "metadata": {},
   "source": [
    "Print the SMILES string of the molecule you draw."
   ]
  },
  {
   "cell_type": "code",
   "execution_count": 5,
   "metadata": {},
   "outputs": [
    {
     "name": "stdout",
     "output_type": "stream",
     "text": [
      "C/N=N/C(=O)C#N\n"
     ]
    }
   ],
   "source": [
    "print(editor.smiles)"
   ]
  },
  {
   "cell_type": "markdown",
   "metadata": {},
   "source": [
    "Run the following cell to get the upload button. Once you see the upload button, upload the file with your custom filters. I am using the <a href=\"https://github.com/volkamerlab/teachopencadd/blob/master/teachopencadd/talktorials/T003_compound_unwanted_substructures/data/unwanted_substructures.csv\">Brenk filters in a csv file taken from the 3rd talktorials of TeachOpenCADD</a> to test this notebook. Please use the same format in your custom filter file."
   ]
  },
  {
   "cell_type": "code",
   "execution_count": 6,
   "metadata": {},
   "outputs": [
    {
     "data": {
      "application/vnd.jupyter.widget-view+json": {
       "model_id": "7e17f1475d3744bf9a0fdc7d48f931b4",
       "version_major": 2,
       "version_minor": 0
      },
      "text/plain": [
       "FileUpload(value={}, description='Upload')"
      ]
     },
     "metadata": {},
     "output_type": "display_data"
    }
   ],
   "source": [
    "uploader = FileUpload(multiple=False)\n",
    "\n",
    "display(uploader)"
   ]
  },
  {
   "cell_type": "markdown",
   "metadata": {},
   "source": [
    "After you have uploaded the file with custom chemical filters, run the next cell."
   ]
  },
  {
   "cell_type": "code",
   "execution_count": 7,
   "metadata": {},
   "outputs": [
    {
     "name": "stdout",
     "output_type": "stream",
     "text": [
      "Number of unwanted substructures in collection: 104\n"
     ]
    }
   ],
   "source": [
    "uploaded_file = uploader.data[0]\n",
    "substructures = pd.read_csv(io.BytesIO(uploaded_file), sep=\"\\s+\")\n",
    "substructures[\"rdkit_molecule\"] = substructures.smarts.apply(Chem.MolFromSmarts)\n",
    "print(\"Number of unwanted substructures in collection:\", len(substructures))"
   ]
  },
  {
   "cell_type": "markdown",
   "metadata": {},
   "source": [
    "# Search for unwanted substructure in your molecule"
   ]
  },
  {
   "cell_type": "code",
   "execution_count": 8,
   "metadata": {},
   "outputs": [
    {
     "name": "stdout",
     "output_type": "stream",
     "text": [
      "Number of found unwanted substructure: 2\n"
     ]
    }
   ],
   "source": [
    "# search for unwanted substructure\n",
    "matches = []\n",
    "clean = []\n",
    "\n",
    "mol = Chem.MolFromSmiles(editor.smiles)\n",
    "match = False\n",
    "for _, substructure in substructures.iterrows():\n",
    "    if mol.HasSubstructMatch(substructure.rdkit_molecule):\n",
    "        matches.append(\n",
    "            {\n",
    "                \"rdkit_molecule\": mol,\n",
    "                \"substructure\": substructure.rdkit_molecule,\n",
    "                \"substructure_name\": substructure[\"name\"],\n",
    "            }\n",
    "        )\n",
    "        match = True\n",
    "\n",
    "matches = pd.DataFrame(matches)\n",
    "\n",
    "print(f\"Number of found unwanted substructure: {len(matches)}\")"
   ]
  },
  {
   "cell_type": "markdown",
   "metadata": {},
   "source": [
    "# Highlight matching substructures in the user-drawn molecule"
   ]
  },
  {
   "cell_type": "code",
   "execution_count": 9,
   "metadata": {},
   "outputs": [
    {
     "data": {
      "image/png": "[encoded data removed]",
      "text/plain": [
       "<IPython.core.display.Image object>"
      ]
     },
     "execution_count": 9,
     "metadata": {},
     "output_type": "execute_result"
    }
   ],
   "source": [
    "to_highlight = [\n",
    "    row.rdkit_molecule.GetSubstructMatch(row.substructure) for _, row in matches.head(10).iterrows()\n",
    "]\n",
    "Chem.Draw.MolsToGridImage(\n",
    "    list(matches.head(3).rdkit_molecule),\n",
    "    highlightAtomLists=to_highlight,\n",
    "    legends=list(matches.head(3).substructure_name),\n",
    ")"
   ]
  },
  {
   "cell_type": "code",
   "execution_count": null,
   "metadata": {},
   "outputs": [],
   "source": []
  }
 ],
 "metadata": {
  "kernelspec": {
   "display_name": "Python 3 (ipykernel)",
   "language": "python",
   "name": "python3"
  },
  "language_info": {
   "codemirror_mode": {
    "name": "ipython",
    "version": 3
   },
   "file_extension": ".py",
   "mimetype": "text/x-python",
   "name": "python",
   "nbconvert_exporter": "python",
   "pygments_lexer": "ipython3",
   "version": "3.7.12"
  },
  "widgets": {
   "application/vnd.jupyter.widget-state+json": {
    "state": {
     "075e7fd2de3c48229eb22eead2522bf8": {
      "model_module": "@jupyter-widgets/base",
      "model_module_version": "1.2.0",
      "model_name": "LayoutModel",
      "state": {}
     },
     "4dcaf2719c5141a684bb2ca4920c9f08": {
      "model_module": "@jupyter-widgets/base",
      "model_module_version": "1.2.0",
      "model_name": "DOMWidgetModel",
      "state": {
       "_model_name": "DOMWidgetModel",
       "_view_module": "smiles_widget",
       "_view_module_version": "0.1.0",
       "_view_name": "SmilesView",
       "layout": "IPY_MODEL_50b1148241d646a9b264db8f1115cc04",
       "mol": "\nJME 2022-02-26 Tue May 16 02:24:04 GMT+800 2023\n\n  7  6  0  0  0  0  0  0  0  0999 V2000\n    1.2124    2.1000    0.0000 N   0  0  0  0  0  0  0  0  0  0  0  0\n    2.4248    1.4000    0.0000 C   0  0  0  0  0  0  0  0  0  0  0  0\n    1.2124    3.5000    0.0000 N   0  0  0  0  0  0  0  0  0  0  0  0\n    0.0000    4.2000    0.0000 C   0  0  0  0  0  0  0  0  0  0  0  0\n    2.4248    0.0000    0.0000 O   0  0  0  0  0  0  0  0  0  0  0  0\n    3.6372    2.1000    0.0000 C   0  0  0  0  0  0  0  0  0  0  0  0\n    4.8497    1.4000    0.0000 N   0  0  0  0  0  0  0  0  0  0  0  0\n  1  2  1  0  0  0  0\n  1  3  2  0  0  0  0\n  3  4  1  0  0  0  0\n  2  5  2  0  0  0  0\n  2  6  1  0  0  0  0\n  6  7  3  0  0  0  0\nM  END\n",
       "smiles": "C/N=N/C(=O)C#N"
      }
     },
     "50b1148241d646a9b264db8f1115cc04": {
      "model_module": "@jupyter-widgets/base",
      "model_module_version": "1.2.0",
      "model_name": "LayoutModel",
      "state": {}
     },
     "7e17f1475d3744bf9a0fdc7d48f931b4": {
      "buffers": [
       {
        "data": "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",
        "encoding": "base64",
        "path": [
         "data",
         0
        ]
       }
      ],
      "model_module": "@jupyter-widgets/controls",
      "model_module_version": "1.5.0",
      "model_name": "FileUploadModel",
      "state": {
       "_counter": 1,
       "data": [
        {}
       ],
       "description_tooltip": null,
       "layout": "IPY_MODEL_075e7fd2de3c48229eb22eead2522bf8",
       "metadata": [
        {
         "lastModified": 1684167211275,
         "name": "unwanted_substructures.csv",
         "size": 3907,
         "type": "application/vnd.ms-excel"
        }
       ],
       "style": "IPY_MODEL_c8c28491c8c34fe796f1a9c58c12caf8"
      }
     },
     "c8c28491c8c34fe796f1a9c58c12caf8": {
      "model_module": "@jupyter-widgets/controls",
      "model_module_version": "1.5.0",
      "model_name": "ButtonStyleModel",
      "state": {}
     }
    },
    "version_major": 2,
    "version_minor": 0
   }
  }
 },
 "nbformat": 4,
 "nbformat_minor": 4
}
